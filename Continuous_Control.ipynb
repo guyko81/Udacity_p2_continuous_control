{
 "cells": [
  {
   "cell_type": "markdown",
   "metadata": {},
   "source": [
    "# Continuous Control\n",
    "\n",
    "---\n",
    "\n",
    "In this notebook, you will learn how to use the Unity ML-Agents environment for the second project of the [Deep Reinforcement Learning Nanodegree](https://www.udacity.com/course/deep-reinforcement-learning-nanodegree--nd893) program.\n",
    "\n",
    "### 1. Start the Environment\n",
    "\n",
    "We begin by importing the necessary packages.  If the code cell below returns an error, please revisit the project instructions to double-check that you have installed [Unity ML-Agents](https://github.com/Unity-Technologies/ml-agents/blob/master/docs/Installation.md) and [NumPy](http://www.numpy.org/)."
   ]
  },
  {
   "cell_type": "code",
   "execution_count": 1,
   "metadata": {},
   "outputs": [],
   "source": [
    "from unityagents import UnityEnvironment\n",
    "import numpy as np\n",
    "\n",
    "import random\n",
    "import torch\n",
    "import numpy as np\n",
    "from collections import deque\n",
    "import matplotlib.pyplot as plt\n",
    "%matplotlib inline"
   ]
  },
  {
   "cell_type": "markdown",
   "metadata": {},
   "source": [
    "Next, we will start the environment!  **_Before running the code cell below_**, change the `file_name` parameter to match the location of the Unity environment that you downloaded.\n",
    "\n",
    "- **Mac**: `\"path/to/Reacher.app\"`\n",
    "- **Windows** (x86): `\"path/to/Reacher_Windows_x86/Reacher.exe\"`\n",
    "- **Windows** (x86_64): `\"path/to/Reacher_Windows_x86_64/Reacher.exe\"`\n",
    "- **Linux** (x86): `\"path/to/Reacher_Linux/Reacher.x86\"`\n",
    "- **Linux** (x86_64): `\"path/to/Reacher_Linux/Reacher.x86_64\"`\n",
    "- **Linux** (x86, headless): `\"path/to/Reacher_Linux_NoVis/Reacher.x86\"`\n",
    "- **Linux** (x86_64, headless): `\"path/to/Reacher_Linux_NoVis/Reacher.x86_64\"`\n",
    "\n",
    "For instance, if you are using a Mac, then you downloaded `Reacher.app`.  If this file is in the same folder as the notebook, then the line below should appear as follows:\n",
    "```\n",
    "env = UnityEnvironment(file_name=\"Reacher.app\")\n",
    "```"
   ]
  },
  {
   "cell_type": "code",
   "execution_count": 2,
   "metadata": {},
   "outputs": [
    {
     "name": "stderr",
     "output_type": "stream",
     "text": [
      "INFO:unityagents:\n",
      "'Academy' started successfully!\n",
      "Unity Academy name: Academy\n",
      "        Number of Brains: 1\n",
      "        Number of External Brains : 1\n",
      "        Lesson number : 0\n",
      "        Reset Parameters :\n",
      "\t\tgoal_speed -> 1.0\n",
      "\t\tgoal_size -> 5.0\n",
      "Unity brain name: ReacherBrain\n",
      "        Number of Visual Observations (per agent): 0\n",
      "        Vector Observation space type: continuous\n",
      "        Vector Observation space size (per agent): 33\n",
      "        Number of stacked Vector Observation: 1\n",
      "        Vector Action space type: continuous\n",
      "        Vector Action space size (per agent): 4\n",
      "        Vector Action descriptions: , , , \n"
     ]
    }
   ],
   "source": [
    "#env = UnityEnvironment(file_name='./Reacher_Windows_x86_64/Reacher.exe')\n",
    "env = UnityEnvironment(file_name=\"Reacher_Windows_x86_64/Reacher.exe\", no_graphics=True)\n"
   ]
  },
  {
   "cell_type": "markdown",
   "metadata": {},
   "source": [
    "Environments contain **_brains_** which are responsible for deciding the actions of their associated agents. Here we check for the first brain available, and set it as the default brain we will be controlling from Python."
   ]
  },
  {
   "cell_type": "code",
   "execution_count": 3,
   "metadata": {},
   "outputs": [],
   "source": [
    "# get the default brain\n",
    "brain_name = env.brain_names[0]\n",
    "brain = env.brains[brain_name]"
   ]
  },
  {
   "cell_type": "markdown",
   "metadata": {},
   "source": [
    "### 2. Examine the State and Action Spaces\n",
    "\n",
    "In this environment, a double-jointed arm can move to target locations. A reward of `+0.1` is provided for each step that the agent's hand is in the goal location. Thus, the goal of your agent is to maintain its position at the target location for as many time steps as possible.\n",
    "\n",
    "The observation space consists of `33` variables corresponding to position, rotation, velocity, and angular velocities of the arm.  Each action is a vector with four numbers, corresponding to torque applicable to two joints.  Every entry in the action vector must be a number between `-1` and `1`.\n",
    "\n",
    "Run the code cell below to print some information about the environment."
   ]
  },
  {
   "cell_type": "code",
   "execution_count": 4,
   "metadata": {},
   "outputs": [
    {
     "name": "stdout",
     "output_type": "stream",
     "text": [
      "Number of agents: 20\n",
      "Number of actions: 4\n",
      "States look like: [ 0.00000000e+00 -4.00000000e+00  0.00000000e+00  1.00000000e+00\n",
      " -0.00000000e+00 -0.00000000e+00 -4.37113883e-08  0.00000000e+00\n",
      "  0.00000000e+00  0.00000000e+00  0.00000000e+00  0.00000000e+00\n",
      "  0.00000000e+00  0.00000000e+00 -1.00000000e+01  0.00000000e+00\n",
      "  1.00000000e+00 -0.00000000e+00 -0.00000000e+00 -4.37113883e-08\n",
      "  0.00000000e+00  0.00000000e+00  0.00000000e+00  0.00000000e+00\n",
      "  0.00000000e+00  0.00000000e+00  5.75471878e+00 -1.00000000e+00\n",
      "  5.55726624e+00  0.00000000e+00  1.00000000e+00  0.00000000e+00\n",
      " -1.68164849e-01]\n",
      "States have length: 33\n"
     ]
    }
   ],
   "source": [
    "# environment information\n",
    "# reset the environment\n",
    "env_info = env.reset(train_mode=True)[brain_name]\n",
    "# number of agents in the environment\n",
    "n_agents = len(env_info.agents)\n",
    "print('Number of agents:', n_agents)\n",
    "# number of actions\n",
    "action_size = brain.vector_action_space_size\n",
    "print('Number of actions:', action_size)\n",
    "# examine the state space \n",
    "state = env_info.vector_observations[0]\n",
    "print('States look like:', state)\n",
    "state_size = len(state)\n",
    "print('States have length:', state_size)"
   ]
  },
  {
   "cell_type": "markdown",
   "metadata": {},
   "source": [
    "### 3. Take Random Actions in the Environment\n",
    "\n",
    "In the next code cell, you will learn how to use the Python API to control the agent and receive feedback from the environment.\n",
    "\n",
    "Once this cell is executed, you will watch the agent's performance, if it selects an action at random with each time step.  A window should pop up that allows you to observe the agent, as it moves through the environment.  \n",
    "\n",
    "Of course, as part of the project, you'll have to change the code so that the agent is able to use its experience to gradually choose better actions when interacting with the environment!"
   ]
  },
  {
   "cell_type": "code",
   "execution_count": 6,
   "metadata": {
    "scrolled": false
   },
   "outputs": [
    {
     "name": "stdout",
     "output_type": "stream",
     "text": [
      "Episode 0\tScore: 0.16\tAverage Score: 0.16\n",
      "Episode 0\tAverage Score: 0.16\n",
      "Episode 1\tScore: 0.09\tAverage Score: 0.13\n",
      "Episode 2\tScore: 0.28\tAverage Score: 0.18\n",
      "Episode 3\tScore: 0.37\tAverage Score: 0.23\n",
      "Episode 4\tScore: 0.35\tAverage Score: 0.25\n",
      "Episode 5\tScore: 0.53\tAverage Score: 0.30\n",
      "Episode 6\tScore: 0.86\tAverage Score: 0.38\n",
      "Episode 7\tScore: 0.95\tAverage Score: 0.45\n",
      "Episode 8\tScore: 1.52\tAverage Score: 0.57\n",
      "Episode 9\tScore: 1.98\tAverage Score: 0.71\n",
      "Episode 10\tScore: 1.77\tAverage Score: 0.81\n",
      "Episode 11\tScore: 2.05\tAverage Score: 0.91\n",
      "Episode 12\tScore: 2.72\tAverage Score: 1.05\n",
      "Episode 13\tScore: 3.17\tAverage Score: 1.20\n",
      "Episode 14\tScore: 5.04\tAverage Score: 1.46\n",
      "Episode 15\tScore: 7.23\tAverage Score: 1.82\n",
      "Episode 16\tScore: 10.72\tAverage Score: 2.34\n",
      "Episode 17\tScore: 18.59\tAverage Score: 3.24\n",
      "Episode 18\tScore: 23.15\tAverage Score: 4.29\n",
      "Episode 19\tScore: 28.88\tAverage Score: 5.52\n",
      "Episode 20\tScore: 33.70\tAverage Score: 6.86\n",
      "Episode 21\tScore: 35.40\tAverage Score: 8.16\n",
      "Episode 22\tScore: 34.20\tAverage Score: 9.29\n",
      "Episode 23\tScore: 37.58\tAverage Score: 10.47\n",
      "Episode 24\tScore: 38.82\tAverage Score: 11.60\n",
      "Episode 25\tScore: 38.97\tAverage Score: 12.66\n",
      "Episode 26\tScore: 39.15\tAverage Score: 13.64\n",
      "Episode 27\tScore: 39.22\tAverage Score: 14.55\n",
      "Episode 28\tScore: 38.70\tAverage Score: 15.38\n",
      "Episode 29\tScore: 39.29\tAverage Score: 16.18\n",
      "Episode 30\tScore: 39.41\tAverage Score: 16.93\n",
      "Episode 31\tScore: 38.78\tAverage Score: 17.61\n",
      "Episode 32\tScore: 38.71\tAverage Score: 18.25\n",
      "Episode 33\tScore: 39.14\tAverage Score: 18.87\n",
      "Episode 34\tScore: 38.53\tAverage Score: 19.43\n",
      "Episode 35\tScore: 38.71\tAverage Score: 19.96\n",
      "Episode 36\tScore: 37.63\tAverage Score: 20.44\n",
      "Episode 37\tScore: 37.77\tAverage Score: 20.90\n",
      "Episode 38\tScore: 35.93\tAverage Score: 21.28\n",
      "Episode 39\tScore: 36.18\tAverage Score: 21.66\n",
      "Episode 40\tScore: 37.12\tAverage Score: 22.03\n",
      "Episode 41\tScore: 37.11\tAverage Score: 22.39\n",
      "Episode 42\tScore: 37.33\tAverage Score: 22.74\n",
      "Episode 43\tScore: 38.60\tAverage Score: 23.10\n",
      "Episode 44\tScore: 37.29\tAverage Score: 23.42\n",
      "Episode 45\tScore: 38.12\tAverage Score: 23.73\n",
      "Episode 46\tScore: 36.36\tAverage Score: 24.00\n",
      "Episode 47\tScore: 38.71\tAverage Score: 24.31\n",
      "Episode 48\tScore: 39.32\tAverage Score: 24.62\n",
      "Episode 49\tScore: 38.14\tAverage Score: 24.89\n",
      "Episode 50\tScore: 36.15\tAverage Score: 25.11\n",
      "Episode 51\tScore: 36.01\tAverage Score: 25.32\n",
      "Episode 52\tScore: 38.77\tAverage Score: 25.57\n",
      "Episode 53\tScore: 38.00\tAverage Score: 25.80\n",
      "Episode 54\tScore: 38.77\tAverage Score: 26.04\n",
      "Episode 55\tScore: 38.76\tAverage Score: 26.26\n",
      "Episode 56\tScore: 37.49\tAverage Score: 26.46\n",
      "Episode 57\tScore: 39.00\tAverage Score: 26.68\n",
      "Episode 58\tScore: 38.31\tAverage Score: 26.87\n",
      "Episode 59\tScore: 37.04\tAverage Score: 27.04\n",
      "Episode 60\tScore: 37.19\tAverage Score: 27.21\n",
      "Episode 61\tScore: 37.43\tAverage Score: 27.37\n",
      "Episode 62\tScore: 38.04\tAverage Score: 27.54\n",
      "Episode 63\tScore: 37.19\tAverage Score: 27.69\n",
      "Episode 64\tScore: 36.87\tAverage Score: 27.84\n",
      "Episode 65\tScore: 37.14\tAverage Score: 27.98\n",
      "Episode 66\tScore: 36.62\tAverage Score: 28.11\n",
      "Episode 67\tScore: 36.71\tAverage Score: 28.23\n",
      "Episode 68\tScore: 38.44\tAverage Score: 28.38\n",
      "Episode 69\tScore: 38.57\tAverage Score: 28.53\n",
      "Episode 70\tScore: 36.23\tAverage Score: 28.63\n",
      "Episode 71\tScore: 36.68\tAverage Score: 28.75\n",
      "Episode 72\tScore: 37.32\tAverage Score: 28.86\n",
      "Episode 73\tScore: 34.91\tAverage Score: 28.95\n",
      "Episode 74\tScore: 35.14\tAverage Score: 29.03\n",
      "Episode 75\tScore: 37.46\tAverage Score: 29.14\n",
      "Episode 76\tScore: 36.79\tAverage Score: 29.24\n",
      "Episode 77\tScore: 38.34\tAverage Score: 29.36\n",
      "Episode 78\tScore: 35.15\tAverage Score: 29.43\n",
      "Episode 79\tScore: 37.50\tAverage Score: 29.53\n",
      "Episode 80\tScore: 38.84\tAverage Score: 29.64\n",
      "Episode 81\tScore: 38.93\tAverage Score: 29.76\n",
      "Episode 82\tScore: 38.68\tAverage Score: 29.86\n",
      "Episode 83\tScore: 38.65\tAverage Score: 29.97\n",
      "Episode 84\tScore: 38.42\tAverage Score: 30.07\n",
      "\n",
      "Environment solved in -16 episodes!\tAverage Score: 30.07\n"
     ]
    },
    {
     "data": {
      "image/png": "[encoded data removed]",
      "text/plain": [
       "<Figure size 432x288 with 1 Axes>"
      ]
     },
     "metadata": {
      "needs_background": "light"
     },
     "output_type": "display_data"
    }
   ],
   "source": [
    "\n",
    "from DDPG_Agent import Agent\n",
    "\n",
    "agent = Agent(state_size=33, action_size=4, n_agents=20, seed=0, activation=\"tanh\")\n",
    "\n",
    "brain_name = env.brain_names[0]\n",
    "n_episodes=20000\n",
    "max_t=10000\n",
    "eps_start=1.0\n",
    "eps_end=0.01\n",
    "eps_decay=0.9\n",
    "\n",
    "scores = []\n",
    "scores_window = deque(maxlen=100)\n",
    "n_episodes = 1000\n",
    "eps = eps_start\n",
    "\n",
    "for i_episode in range(n_episodes):\n",
    "    env_info = env.reset(train_mode=True)[brain_name]            # reset the environment\n",
    "    states = env_info.vector_observations\n",
    "    score = np.zeros(n_agents)\n",
    "\n",
    "    while True:\n",
    "        actions = agent.act(states, eps)\n",
    "        actions = actions.reshape(n_agents, action_size)\n",
    "        env_info = env.step( actions )[brain_name]               # send the action to the environment                            \n",
    "        next_states = env_info.vector_observations               # get the next state        \n",
    "        rewards = env_info.rewards                               # get the reward        \n",
    "        dones = env_info.local_done                              # see if episode has finished        \n",
    "        agent.step(states, actions, rewards, next_states, dones)\n",
    "\n",
    "        score += rewards                                         # update the score\n",
    "\n",
    "        states = next_states                                     # roll over the state to next time step        \n",
    "\n",
    "        if np.any( dones ):                                          # exit loop if episode finished        \n",
    "            break                                        \n",
    "\n",
    "\n",
    "    scores.append(np.mean(score))\n",
    "    scores_window.append(np.mean(score))\n",
    "    eps = max(eps_end, eps_decay*eps) # decrease epsilon\n",
    "    print('\\rEpisode {}\\tScore: {:.2f}\\tAverage Score: {:.2f}'.format(i_episode, score.mean(), np.mean(scores_window)))\n",
    "    if i_episode % 100 == 0:\n",
    "        print('\\rEpisode {}\\tAverage Score: {:.2f}'.format(i_episode, np.mean(scores_window)))\n",
    "    if np.mean(scores_window)>=30.0:\n",
    "        print('\\nEnvironment solved in {:d} episodes!\\tAverage Score: {:.2f}'.format(i_episode-100, np.mean(scores_window)))\n",
    "        torch.save(agent.qnetwork_local.state_dict(), 'checkpoint.pth')\n",
    "        break\n",
    "\n",
    "\n",
    "# plot the scores\n",
    "fig = plt.figure()\n",
    "ax = fig.add_subplot(111)\n",
    "plt.plot(np.arange(len(scores)), scores)\n",
    "plt.ylabel('Score')\n",
    "plt.xlabel('Episode #')\n",
    "plt.show()\n"
   ]
  },
  {
   "cell_type": "code",
   "execution_count": 7,
   "metadata": {},
   "outputs": [],
   "source": [
    "torch.save(agent.policy_local.state_dict(), 'policy.pth')"
   ]
  }
 ],
 "metadata": {
  "kernelspec": {
   "display_name": "Python 3",
   "language": "python",
   "name": "python3"
  },
  "language_info": {
   "codemirror_mode": {
    "name": "ipython",
    "version": 3
   },
   "file_extension": ".py",
   "mimetype": "text/x-python",
   "name": "python",
   "nbconvert_exporter": "python",
   "pygments_lexer": "ipython3",
   "version": "3.6.8"
  }
 },
 "nbformat": 4,
 "nbformat_minor": 2
}
